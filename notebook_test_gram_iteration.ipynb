{
 "cells": [
  {
   "cell_type": "code",
   "execution_count": 1,
   "id": "e388dc74",
   "metadata": {
    "scrolled": true
   },
   "outputs": [],
   "source": [
    "from bounds import *\n",
    "import torch\n",
    "import numpy as np"
   ]
  },
  {
   "cell_type": "markdown",
   "id": "49722cb7",
   "metadata": {},
   "source": [
    "# Spectral norm estimation on dense matrix\n",
    "\n",
    "This code is related to dense spectral norm estimation, see Section 5.5 in paper. "
   ]
  },
  {
   "cell_type": "code",
   "execution_count": 2,
   "id": "81928fab",
   "metadata": {},
   "outputs": [
    {
     "name": "stdout",
     "output_type": "stream",
     "text": [
      "dense sigma_1_reference 42.809956870632924\n"
     ]
    }
   ],
   "source": [
    "n, m = 500, 400\n",
    "with_cuda = False\n",
    "G = torch.randn(n, m).double().cuda()\n",
    "sigma_1_reference = torch.linalg.matrix_norm(G, ord=2).item()\n",
    "print(\"dense sigma_1_reference\", sigma_1_reference)"
   ]
  },
  {
   "cell_type": "markdown",
   "id": "af1afefa",
   "metadata": {},
   "source": [
    "# Test Power iteration on dense matrix"
   ]
  },
  {
   "cell_type": "code",
   "execution_count": 3,
   "id": "a5b1a4a7",
   "metadata": {},
   "outputs": [
    {
     "name": "stdout",
     "output_type": "stream",
     "text": [
      "Diff Power iteration -2.7071678232459817e-12 Mean time 0.0829003095626831\n"
     ]
    }
   ],
   "source": [
    "n_iter_pi = 1000\n",
    "nb_reps = 10\n",
    "burn = 10\n",
    "sigmas_1_pi, times = [], []\n",
    "for _ in range(nb_reps + burn):\n",
    "    sigma_1_pi, time = estimate_dense(G, \n",
    "                                      n_iter=n_iter_pi, \n",
    "                                      name_func=\"pi\", \n",
    "                                      return_time=True)\n",
    "    sigmas_1_pi.append(sigma_1_pi.item())\n",
    "    times.append(time)\n",
    "print(\"Diff Power iteration\", np.mean(sigmas_1_pi[burn:]) - sigma_1_reference, \n",
    "      \"Mean time\", np.mean(times[burn:]))"
   ]
  },
  {
   "cell_type": "markdown",
   "id": "d9cb2f61",
   "metadata": {},
   "source": [
    "# Test Gram iteration on dense matrix"
   ]
  },
  {
   "cell_type": "code",
   "execution_count": 4,
   "id": "e9df7299",
   "metadata": {},
   "outputs": [
    {
     "name": "stdout",
     "output_type": "stream",
     "text": [
      "Diff Gram iteration -2.6929569685307797e-12 Mean time 0.0015299320220947266\n"
     ]
    }
   ],
   "source": [
    "n_iter_gram = 15\n",
    "nb_reps = 10\n",
    "burn = 10\n",
    "sigmas_1_gram, times = [], []\n",
    "for _ in range(nb_reps + burn):\n",
    "    sigma_1_gram, time = estimate_dense(G, \n",
    "                                        n_iter=n_iter_gram, \n",
    "                                        name_func=\"ours\", \n",
    "                                        return_time=True)\n",
    "    sigmas_1_gram.append(sigma_1_gram.item())\n",
    "    times.append(time)\n",
    "print(\"Diff Gram iteration\", np.mean(sigmas_1_gram[burn:]) - sigma_1_reference, \n",
    "      \"Mean time\", np.mean(times[burn:]))"
   ]
  },
  {
   "cell_type": "markdown",
   "id": "a75f3ff8",
   "metadata": {},
   "source": [
    "# Spectral norm estimation on convolutional layer\n",
    "\n",
    "This code is related to convolutional layer spectral norm estimation, see Section 5.2 in paper.# Define convolution kernel"
   ]
  },
  {
   "cell_type": "code",
   "execution_count": 5,
   "id": "1af4f4db",
   "metadata": {},
   "outputs": [
    {
     "name": "stdout",
     "output_type": "stream",
     "text": [
      "kernel sigma_1_reference_sedghi2019 81.72451782226562\n",
      "kernel sigma_1_reference_ryu2019 77.01795959472656\n"
     ]
    }
   ],
   "source": [
    "cout = 64\n",
    "cin = 64\n",
    "input_size_n = 12\n",
    "kernel_size = 5\n",
    "\n",
    "\n",
    "kernel = torch.randn(cout, cin, kernel_size, kernel_size).cuda()\n",
    "\n",
    "sigma_1_reference_sedghi2019 = estimate(kernel, \n",
    "                                        n=input_size_n, \n",
    "                                        name_func=\"sedghi2019\").item()\n",
    "print(\"kernel sigma_1_reference_sedghi2019\", sigma_1_reference_sedghi2019)\n",
    "\n",
    "n_iter_ryu2019_ref = 100\n",
    "sigma_1_reference_ryu2019 = estimate(kernel, \n",
    "                                     n=input_size_n, \n",
    "                                     n_iter=n_iter_ryu2019_ref, \n",
    "                                     name_func=\"ryu2019\").item()\n",
    "print(\"kernel sigma_1_reference_ryu2019\", sigma_1_reference_ryu2019)"
   ]
  },
  {
   "cell_type": "markdown",
   "id": "c8f805ee",
   "metadata": {},
   "source": [
    "# Test Araujo2021 on convolutional layer"
   ]
  },
  {
   "cell_type": "code",
   "execution_count": 6,
   "id": "f8e74be9",
   "metadata": {},
   "outputs": [
    {
     "name": "stdout",
     "output_type": "stream",
     "text": [
      "Diff Sedghi2019 with Araujo2021 conv  272.14373779296875 \n",
      "Diff Ryu2019 with Araujo2021 conv 276.8502960205078 \n",
      "Mean time 0.0016119718551635743\n"
     ]
    }
   ],
   "source": [
    "nb_samples_araujo2021 = 50\n",
    "nb_reps = 10\n",
    "burn = 10\n",
    "sigmas_1_araujo2021, times = [], []\n",
    "for _ in range(nb_reps + burn):\n",
    "    sigma_1_araujo2021, time = estimate(kernel, \n",
    "                                  n=input_size_n, \n",
    "                                  n_iter=nb_samples_araujo2021, \n",
    "                                  name_func=\"araujo2021\", \n",
    "                                  return_time=True)\n",
    "    sigmas_1_araujo2021.append(sigma_1_araujo2021.item())\n",
    "    times.append(time)\n",
    "print(\"Diff Sedghi2019 with Araujo2021 conv \", np.mean(sigmas_1_araujo2021[burn:]) - sigma_1_reference_sedghi2019,\n",
    "      \"\\nDiff Ryu2019 with Araujo2021 conv\", np.mean(sigmas_1_araujo2021[burn:]) - sigma_1_reference_ryu2019, \n",
    "      \"\\nMean time\", np.mean(times[burn:]))"
   ]
  },
  {
   "cell_type": "markdown",
   "id": "80f261bd",
   "metadata": {},
   "source": [
    "# Test Singla2021 on convolutional layer"
   ]
  },
  {
   "cell_type": "code",
   "execution_count": 7,
   "id": "bced0cae",
   "metadata": {},
   "outputs": [
    {
     "name": "stdout",
     "output_type": "stream",
     "text": [
      "Diff Sedghi2019 with Singla2021conv 92.49748229980469 \n",
      "Diff Ryu2019 with Singla2021 conv 97.20404052734375 \n",
      "Mean time 0.027846980094909667\n"
     ]
    }
   ],
   "source": [
    "n_iter_singla2021 = 50\n",
    "nb_reps = 10\n",
    "burn = 10\n",
    "sigmas_1_singla2021, times = [], []\n",
    "for _ in range(nb_reps + burn):\n",
    "    sigma_1_singla2021, time = estimate(kernel, \n",
    "                                  n=input_size_n, \n",
    "                                  n_iter=n_iter_singla2021, \n",
    "                                  name_func=\"singla2021\", \n",
    "                                  return_time=True)\n",
    "    sigmas_1_singla2021.append(sigma_1_singla2021.item())\n",
    "    times.append(time)\n",
    "print(\"Diff Sedghi2019 with Singla2021conv\", np.mean(sigmas_1_singla2021[burn:]) - sigma_1_reference_sedghi2019,\n",
    "      \"\\nDiff Ryu2019 with Singla2021 conv\", np.mean(sigmas_1_singla2021[burn:]) - sigma_1_reference_ryu2019, \n",
    "      \"\\nMean time\", np.mean(times[burn:]))"
   ]
  },
  {
   "cell_type": "markdown",
   "id": "cb996ff5",
   "metadata": {},
   "source": [
    "# Test Gram iteration on convolution layer"
   ]
  },
  {
   "cell_type": "code",
   "execution_count": 8,
   "id": "5b78d520",
   "metadata": {},
   "outputs": [
    {
     "name": "stdout",
     "output_type": "stream",
     "text": [
      "Diff Sedghi2019 with Gram iteration conv 0.0018463134765625 \n",
      "Diff Ryu2019 with Gram iteration conv 4.708404541015625 \n",
      "Mean time 0.0010091543197631836\n"
     ]
    }
   ],
   "source": [
    "n_iter_gram = 5\n",
    "nb_reps = 10\n",
    "burn = 10\n",
    "sigmas_1_gram, times = [], []\n",
    "for _ in range(nb_reps + burn):\n",
    "    sigma_1_gram, time = estimate(kernel, \n",
    "                                  n=input_size_n, \n",
    "                                  n_iter=n_iter_gram, \n",
    "                                  name_func=\"ours\", \n",
    "                                  return_time=True)\n",
    "    sigmas_1_gram.append(sigma_1_gram.item())\n",
    "    times.append(time)\n",
    "print(\"Diff Sedghi2019 with Gram iteration conv\", np.mean(sigmas_1_gram[burn:]) - sigma_1_reference_sedghi2019,\n",
    "      \"\\nDiff Ryu2019 with Gram iteration conv\", np.mean(sigmas_1_gram[burn:]) - sigma_1_reference_ryu2019, \n",
    "      \"\\nMean time\", np.mean(times[burn:]))"
   ]
  },
  {
   "cell_type": "markdown",
   "id": "b83bc0ab",
   "metadata": {},
   "source": [
    "# Compute spectral norm of convolutional layers of ResNet18\n",
    "\n",
    "This code is related to Section 5.3 in paper."
   ]
  },
  {
   "cell_type": "code",
   "execution_count": 9,
   "id": "bc9c2252",
   "metadata": {},
   "outputs": [
    {
     "name": "stderr",
     "output_type": "stream",
     "text": [
      "/home/lamsade/bdelattre/.local/lib/python3.9/site-packages/torchvision/models/_utils.py:208: UserWarning: The parameter 'pretrained' is deprecated since 0.13 and may be removed in the future, please use 'weights' instead.\n",
      "  warnings.warn(\n",
      "/home/lamsade/bdelattre/.local/lib/python3.9/site-packages/torchvision/models/_utils.py:223: UserWarning: Arguments other than a weight enum or `None` for 'weights' are deprecated since 0.13 and may be removed in the future. The current behavior is equivalent to passing `weights=ResNet18_Weights.IMAGENET1K_V1`. You can also use `weights=ResNet18_Weights.DEFAULT` to get the most up-to-date weights.\n",
      "  warnings.warn(msg)\n"
     ]
    },
    {
     "name": "stdout",
     "output_type": "stream",
     "text": [
      "\n",
      "\n",
      "ryu2019 conv weight dim torch.Size([64, 3, 7, 7]) n 224 bound 15.869194984436035 time 0.26656007766723633\n",
      "Total Lipschitz bound 15.869194984436035 total time 0.26656007766723633 \n",
      "\n",
      "araujo2021 conv weight dim torch.Size([64, 3, 7, 7]) n 224 bound 31.370620727539062 time 0.003934144973754883\n",
      "Total Lipschitz bound 31.370620727539062 total time 0.003934144973754883 \n",
      "\n",
      "singla2021 conv weight dim torch.Size([64, 3, 7, 7]) n 224 bound 28.89466667175293 time 0.03105306625366211\n",
      "Total Lipschitz bound 28.89466667175293 total time 0.03105306625366211 \n",
      "\n",
      "ours conv weight dim torch.Size([64, 3, 7, 7]) n 224 bound 15.916428565979004 time 0.04238271713256836\n",
      "Total Lipschitz bound 15.916428565979004 total time 0.04238271713256836 \n",
      "\n",
      "\n",
      "\n",
      "\n",
      "\n",
      "\n",
      "\n",
      "ryu2019 conv weight dim torch.Size([64, 64, 3, 3]) n 56 bound 5.979285717010498 time 0.3389859199523926\n",
      "Total Lipschitz bound 94.88645091089302 total time 0.6055459976196289 \n",
      "\n",
      "araujo2021 conv weight dim torch.Size([64, 64, 3, 3]) n 56 bound 15.715842247009277 time 0.0025854110717773438\n",
      "Total Lipschitz bound 493.0157265447633 total time 0.0065195560455322266 \n",
      "\n",
      "singla2021 conv weight dim torch.Size([64, 64, 3, 3]) n 56 bound 9.32695484161377 time 0.03126239776611328\n",
      "Total Lipschitz bound 269.499251210922 total time 0.06231546401977539 \n",
      "\n",
      "ours conv weight dim torch.Size([64, 64, 3, 3]) n 56 bound 6.004315376281738 time 0.04510211944580078\n",
      "Total Lipschitz bound 95.56725677419763 total time 0.08748483657836914 \n",
      "\n",
      "\n",
      "\n",
      "\n",
      "ryu2019 conv weight dim torch.Size([64, 64, 3, 3]) n 56 bound 5.322147846221924 time 0.039499521255493164\n",
      "Total Lipschitz bound 504.99972035105156 total time 0.6450455188751221 \n",
      "\n",
      "araujo2021 conv weight dim torch.Size([64, 64, 3, 3]) n 56 bound 15.327611923217773 time 0.0011789798736572266\n",
      "Total Lipschitz bound 7556.7537285213875 total time 0.007698535919189453 \n",
      "\n",
      "singla2021 conv weight dim torch.Size([64, 64, 3, 3]) n 56 bound 6.289144515991211 time 0.0307919979095459\n",
      "Total Lipschitz bound 1694.9197378169079 total time 0.09310746192932129 \n",
      "\n",
      "ours conv weight dim torch.Size([64, 64, 3, 3]) n 56 bound 5.341419696807861 time 0.0014157295227050781\n",
      "Total Lipschitz bound 510.46482770359376 total time 0.08890056610107422 \n",
      "\n",
      "\n",
      "\n",
      "\n",
      "ryu2019 conv weight dim torch.Size([64, 64, 3, 3]) n 56 bound 6.975705623626709 time 0.032691240310668945\n",
      "Total Lipschitz bound 3522.7293891827458 total time 0.677736759185791 \n",
      "\n",
      "araujo2021 conv weight dim torch.Size([64, 64, 3, 3]) n 56 bound 14.831981658935547 time 0.0010340213775634766\n",
      "Total Lipschitz bound 112081.63270252202 total time 0.00873255729675293 \n",
      "\n",
      "singla2021 conv weight dim torch.Size([64, 64, 3, 3]) n 56 bound 8.7120943069458 time 0.031923532485961914\n",
      "Total Lipschitz bound 14766.300598564752 total time 0.1250309944152832 \n",
      "\n",
      "ours conv weight dim torch.Size([64, 64, 3, 3]) n 56 bound 6.999658107757568 time 0.0018067359924316406\n",
      "Total Lipschitz bound 3573.0792699605304 total time 0.09070730209350586 \n",
      "\n",
      "\n",
      "\n",
      "\n",
      "ryu2019 conv weight dim torch.Size([64, 64, 3, 3]) n 56 bound 3.8020782470703125 time 0.0321199893951416\n",
      "Total Lipschitz bound 13393.692780927007 total time 0.7098567485809326 \n",
      "\n",
      "araujo2021 conv weight dim torch.Size([64, 64, 3, 3]) n 56 bound 13.849824905395508 time 0.0010540485382080078\n",
      "Total Lipschitz bound 1552310.988040781 total time 0.009786605834960938 \n",
      "\n",
      "singla2021 conv weight dim torch.Size([64, 64, 3, 3]) n 56 bound 5.401604652404785 time 0.030200719833374023\n",
      "Total Lipschitz bound 79761.71801201493 total time 0.15523171424865723 \n",
      "\n",
      "ours conv weight dim torch.Size([64, 64, 3, 3]) n 56 bound 3.8162407875061035 time 0.0014812946319580078\n",
      "Total Lipschitz bound 13635.730847015908 total time 0.09218859672546387 \n",
      "\n",
      "\n",
      "\n",
      "\n",
      "\n",
      "ryu2019 conv weight dim torch.Size([128, 64, 3, 3]) n 56 bound 4.687346458435059 time 0.1129915714263916\n",
      "Total Lipschitz bound 62780.87842204542 total time 0.8228483200073242 \n",
      "\n",
      "araujo2021 conv weight dim torch.Size([128, 64, 3, 3]) n 56 bound 16.08881378173828 time 0.0014693737030029297\n",
      "Total Lipschitz bound 24974842.417934287 total time 0.011255979537963867 \n",
      "\n",
      "singla2021 conv weight dim torch.Size([128, 64, 3, 3]) n 56 bound 5.898256301879883 time 0.03204965591430664\n",
      "Total Lipschitz bound 470455.0559131332 total time 0.18728137016296387 \n",
      "\n",
      "ours conv weight dim torch.Size([128, 64, 3, 3]) n 56 bound 4.706955432891846 time 0.003651142120361328\n",
      "Total Lipschitz bound 64182.77739181246 total time 0.0958397388458252 \n",
      "\n",
      "\n",
      "\n",
      "\n",
      "ryu2019 conv weight dim torch.Size([128, 128, 3, 3]) n 28 bound 5.684365272521973 time 0.05275106430053711\n",
      "Total Lipschitz bound 356869.44508069905 total time 0.8755993843078613 \n",
      "\n",
      "araujo2021 conv weight dim torch.Size([128, 128, 3, 3]) n 28 bound 25.556058883666992 time 0.001399993896484375\n",
      "Total Lipschitz bound 638258543.4430327 total time 0.012655973434448242 \n",
      "\n",
      "singla2021 conv weight dim torch.Size([128, 128, 3, 3]) n 28 bound 7.213672637939453 time 0.028751850128173828\n",
      "Total Lipschitz bound 3393708.7642208445 total time 0.2160332202911377 \n",
      "\n",
      "ours conv weight dim torch.Size([128, 128, 3, 3]) n 28 bound 5.722334384918213 time 0.023010969161987305\n",
      "Total Lipschitz bound 367275.3139887197 total time 0.1188507080078125 \n",
      "\n",
      "\n",
      "\n",
      "ryu2019 conv weight dim torch.Size([128, 64, 1, 1]) n 28 bound 1.9137946367263794 time 0.48006582260131836\n",
      "Total Lipschitz bound 356889.9383134185 total time 1.3556652069091797 \n",
      "\n",
      "araujo2021 conv weight dim torch.Size([128, 64, 1, 1]) n 28 bound 6.395765781402588 time 0.0012059211730957031\n",
      "Total Lipschitz bound 638258611.9299613 total time 0.013861894607543945 \n",
      "\n",
      "singla2021 conv weight dim torch.Size([128, 64, 1, 1]) n 28 bound 1.9137775897979736 time 0.02934718132019043\n",
      "Total Lipschitz bound 3393729.2572710225 total time 0.24538040161132812 \n",
      "\n",
      "ours conv weight dim torch.Size([128, 64, 1, 1]) n 28 bound 1.9137778282165527 time 0.002056121826171875\n",
      "Total Lipschitz bound 367295.8070414508 total time 0.12090682983398438 \n",
      "\n",
      "\n",
      "\n",
      "\n",
      "\n",
      "ryu2019 conv weight dim torch.Size([128, 128, 3, 3]) n 28 bound 4.3810954093933105 time 0.03193521499633789\n",
      "Total Lipschitz bound 1563568.8704035794 total time 1.3876004219055176 \n",
      "\n",
      "araujo2021 conv weight dim torch.Size([128, 128, 3, 3]) n 28 bound 18.964008331298828 time 0.001272439956665039\n",
      "Total Lipschitz bound 12103941634.163012 total time 0.015134334564208984 \n",
      "\n",
      "singla2021 conv weight dim torch.Size([128, 128, 3, 3]) n 28 bound 6.779029369354248 time 0.029822111129760742\n",
      "Total Lipschitz bound 23006190.30667704 total time 0.27520251274108887 \n",
      "\n",
      "ours conv weight dim torch.Size([128, 128, 3, 3]) n 28 bound 4.39886999130249 time 0.0014567375183105469\n",
      "Total Lipschitz bound 1615686.5035258678 total time 0.12236356735229492 \n",
      "\n",
      "\n",
      "\n",
      "\n",
      "ryu2019 conv weight dim torch.Size([128, 128, 3, 3]) n 28 bound 4.857558250427246 time 0.0317990779876709\n",
      "Total Lipschitz bound 7595126.866540117 total time 1.4193994998931885 \n",
      "\n",
      "araujo2021 conv weight dim torch.Size([128, 128, 3, 3]) n 28 bound 21.34959602355957 time 0.0011138916015625\n",
      "Total Lipschitz bound 258414264182.12375 total time 0.016248226165771484 \n",
      "\n",
      "singla2021 conv weight dim torch.Size([128, 128, 3, 3]) n 28 bound 7.571270942687988 time 0.029279470443725586\n",
      "Total Lipschitz bound 174186100.17089394 total time 0.30448198318481445 \n",
      "\n",
      "ours conv weight dim torch.Size([128, 128, 3, 3]) n 28 bound 4.885128021240234 time 0.0015892982482910156\n",
      "Total Lipschitz bound 7892835.4119138755 total time 0.12395286560058594 \n",
      "\n",
      "\n",
      "\n",
      "\n",
      "\n",
      "ryu2019 conv weight dim torch.Size([256, 128, 3, 3]) n 28 bound 7.353330612182617 time 0.04263758659362793\n",
      "Total Lipschitz bound 55849478.89114008 total time 1.4620370864868164 \n",
      "\n",
      "araujo2021 conv weight dim torch.Size([256, 128, 3, 3]) n 28 bound 39.8460578918457 time 0.002019166946411133\n",
      "Total Lipschitz bound 10296789730679.613 total time 0.018267393112182617 \n",
      "\n",
      "singla2021 conv weight dim torch.Size([256, 128, 3, 3]) n 28 bound 8.45412826538086 time 0.029787778854370117\n",
      "Total Lipschitz bound 1472591632.8912163 total time 0.33426976203918457 \n",
      "\n",
      "ours conv weight dim torch.Size([256, 128, 3, 3]) n 28 bound 7.394838333129883 time 0.0031409263610839844\n",
      "Total Lipschitz bound 58366241.86110572 total time 0.12709379196166992 \n",
      "\n",
      "\n",
      "\n",
      "\n",
      "ryu2019 conv weight dim torch.Size([256, 256, 3, 3]) n 14 bound 6.448009490966797 time 0.04047679901123047\n",
      "Total Lipschitz bound 360117969.955621 total time 1.5025138854980469 \n",
      "\n",
      "araujo2021 conv weight dim torch.Size([256, 256, 3, 3]) n 14 bound 40.97054672241211 time 0.0019822120666503906\n",
      "Total Lipschitz bound 421865104751662.3 total time 0.020249605178833008 \n",
      "\n",
      "singla2021 conv weight dim torch.Size([256, 256, 3, 3]) n 14 bound 8.035860061645508 time 0.03184247016906738\n",
      "Total Lipschitz bound 11833540289.863869 total time 0.36611223220825195 \n",
      "\n",
      "ours conv weight dim torch.Size([256, 256, 3, 3]) n 14 bound 6.582921028137207 time 0.028333187103271484\n",
      "Total Lipschitz bound 384220360.88081497 total time 0.1554269790649414 \n",
      "\n",
      "\n",
      "\n"
     ]
    },
    {
     "name": "stdout",
     "output_type": "stream",
     "text": [
      "ryu2019 conv weight dim torch.Size([256, 128, 1, 1]) n 14 bound 1.215047001838684 time 0.07498335838317871\n",
      "Total Lipschitz bound 360117990.75099486 total time 1.5774972438812256 \n",
      "\n",
      "araujo2021 conv weight dim torch.Size([256, 128, 1, 1]) n 14 bound 5.973367214202881 time 0.000865936279296875\n",
      "Total Lipschitz bound 421865104751764.56 total time 0.021115541458129883 \n",
      "\n",
      "singla2021 conv weight dim torch.Size([256, 128, 1, 1]) n 14 bound 1.215043544769287 time 0.029513835906982422\n",
      "Total Lipschitz bound 11833540310.659184 total time 0.3956260681152344 \n",
      "\n",
      "ours conv weight dim torch.Size([256, 128, 1, 1]) n 14 bound 1.215043544769287 time 0.0018472671508789062\n",
      "Total Lipschitz bound 384220381.6761297 total time 0.1572742462158203 \n",
      "\n",
      "\n",
      "\n",
      "\n",
      "\n",
      "ryu2019 conv weight dim torch.Size([256, 256, 3, 3]) n 14 bound 6.226568222045898 time 0.030767202377319336\n",
      "Total Lipschitz bound 2242299237.3971634 total time 1.608264446258545 \n",
      "\n",
      "araujo2021 conv weight dim torch.Size([256, 256, 3, 3]) n 14 bound 30.153610229492188 time 0.0013039112091064453\n",
      "Total Lipschitz bound 1.2720755938108602e+16 total time 0.022419452667236328 \n",
      "\n",
      "singla2021 conv weight dim torch.Size([256, 256, 3, 3]) n 14 bound 7.57203483581543 time 0.030883073806762695\n",
      "Total Lipschitz bound 89603979463.33748 total time 0.42650914192199707 \n",
      "\n",
      "ours conv weight dim torch.Size([256, 256, 3, 3]) n 14 bound 6.360864639282227 time 0.0014989376068115234\n",
      "Total Lipschitz bound 2443973839.495214 total time 0.15877318382263184 \n",
      "\n",
      "\n",
      "\n",
      "\n",
      "ryu2019 conv weight dim torch.Size([256, 256, 3, 3]) n 14 bound 7.52529764175415 time 0.03096604347229004\n",
      "Total Lipschitz bound 16873969163.292004 total time 1.639230489730835 \n",
      "\n",
      "araujo2021 conv weight dim torch.Size([256, 256, 3, 3]) n 14 bound 31.999122619628906 time 0.0011115074157714844\n",
      "Total Lipschitz bound 4.070530290779097e+17 total time 0.023530960083007812 \n",
      "\n",
      "singla2021 conv weight dim torch.Size([256, 256, 3, 3]) n 14 bound 9.166234970092773 time 0.03090977668762207\n",
      "Total Lipschitz bound 821331130016.3187 total time 0.45741891860961914 \n",
      "\n",
      "ours conv weight dim torch.Size([256, 256, 3, 3]) n 14 bound 7.676708698272705 time 0.001463174819946289\n",
      "Total Lipschitz bound 18761675232.00385 total time 0.16023635864257812 \n",
      "\n",
      "\n",
      "\n",
      "\n",
      "\n",
      "ryu2019 conv weight dim torch.Size([512, 256, 3, 3]) n 14 bound 9.747414588928223 time 0.08810305595397949\n",
      "Total Lipschitz bound 164477573195.39743 total time 1.7273335456848145 \n",
      "\n",
      "araujo2021 conv weight dim torch.Size([512, 256, 3, 3]) n 14 bound 51.3704719543457 time 0.004383087158203125\n",
      "Total Lipschitz bound 2.0910506214178226e+19 total time 0.027914047241210938 \n",
      "\n",
      "singla2021 conv weight dim torch.Size([512, 256, 3, 3]) n 14 bound 11.002960205078125 time 0.03047466278076172\n",
      "Total Lipschitz bound 9037073738761.402 total time 0.48789358139038086 \n",
      "\n",
      "ours conv weight dim torch.Size([512, 256, 3, 3]) n 14 bound 9.99061107635498 time 0.002330303192138672\n",
      "Total Lipschitz bound 187440600383.83255 total time 0.1625666618347168 \n",
      "\n",
      "\n",
      "\n",
      "\n",
      "ryu2019 conv weight dim torch.Size([512, 512, 3, 3]) n 7 bound 8.379766464233398 time 0.08096456527709961\n",
      "Total Lipschitz bound 1378283651981.2854 total time 1.808298110961914 \n",
      "\n",
      "araujo2021 conv weight dim torch.Size([512, 512, 3, 3]) n 7 bound 52.75487518310547 time 0.0043621063232421875\n",
      "Total Lipschitz bound 1.1031311453445236e+21 total time 0.032276153564453125 \n",
      "\n",
      "singla2021 conv weight dim torch.Size([512, 512, 3, 3]) n 7 bound 10.451601028442383 time 0.029994964599609375\n",
      "Total Lipschitz bound 94451889182148.33 total time 0.5178885459899902 \n",
      "\n",
      "ours conv weight dim torch.Size([512, 512, 3, 3]) n 7 bound 9.093868255615234 time 0.0061948299407958984\n",
      "Total Lipschitz bound 1704560125643.9956 total time 0.1687614917755127 \n",
      "\n",
      "\n",
      "\n",
      "ryu2019 conv weight dim torch.Size([512, 256, 1, 1]) n 7 bound 2.0471901893615723 time 0.050923824310302734\n",
      "Total Lipschitz bound 1378283652036.304 total time 1.8592219352722168 \n",
      "\n",
      "araujo2021 conv weight dim torch.Size([512, 256, 1, 1]) n 7 bound 11.87250804901123 time 0.00017547607421875\n",
      "Total Lipschitz bound 1.1031311453445236e+21 total time 0.032451629638671875 \n",
      "\n",
      "singla2021 conv weight dim torch.Size([512, 256, 1, 1]) n 7 bound 2.0462417602539062 time 0.0287935733795166\n",
      "Total Lipschitz bound 94451889182203.33 total time 0.5466821193695068 \n",
      "\n",
      "ours conv weight dim torch.Size([512, 256, 1, 1]) n 7 bound 2.0471982955932617 time 0.001760721206665039\n",
      "Total Lipschitz bound 1704560125699.0144 total time 0.17052221298217773 \n",
      "\n",
      "\n",
      "\n",
      "\n",
      "\n",
      "ryu2019 conv weight dim torch.Size([512, 512, 3, 3]) n 7 bound 16.26457977294922 time 0.02998638153076172\n",
      "Total Lipschitz bound 22417204408296.25 total time 1.8892083168029785 \n",
      "\n",
      "araujo2021 conv weight dim torch.Size([512, 512, 3, 3]) n 7 bound 65.60674285888672 time 0.0011403560638427734\n",
      "Total Lipschitz bound 7.237284139224735e+22 total time 0.03359198570251465 \n",
      "\n",
      "singla2021 conv weight dim torch.Size([512, 512, 3, 3]) n 7 bound 18.37369728088379 time 0.029937028884887695\n",
      "Total Lipschitz bound 1735430419441386.2 total time 0.5766191482543945 \n",
      "\n",
      "ours conv weight dim torch.Size([512, 512, 3, 3]) n 7 bound 17.599510192871094 time 0.0015420913696289062\n",
      "Total Lipschitz bound 29999423306601.438 total time 0.17206430435180664 \n",
      "\n",
      "\n",
      "\n",
      "\n",
      "ryu2019 conv weight dim torch.Size([512, 512, 3, 3]) n 7 bound 6.797242164611816 time 0.02996540069580078\n",
      "Total Lipschitz bound 152375167016793.16 total time 1.9191737174987793 \n",
      "\n",
      "araujo2021 conv weight dim torch.Size([512, 512, 3, 3]) n 7 bound 63.70256423950195 time 0.0011839866638183594\n",
      "Total Lipschitz bound 4.610335577984923e+24 total time 0.03477597236633301 \n",
      "\n",
      "singla2021 conv weight dim torch.Size([512, 512, 3, 3]) n 7 bound 7.595523834228516 time 0.02901005744934082\n",
      "Total Lipschitz bound 1.318150311351224e+16 total time 0.6056292057037354 \n",
      "\n",
      "ours conv weight dim torch.Size([512, 512, 3, 3]) n 7 bound 7.479345798492432 time 0.0016307830810546875\n",
      "Total Lipschitz bound 224376060665425.4 total time 0.17369508743286133 \n",
      "\n",
      "\n",
      "\n",
      "\n"
     ]
    }
   ],
   "source": [
    "from torchvision import models\n",
    "\n",
    "n_iter_name = {\n",
    "               \"ours\":7,\n",
    "               \"singla2021\":50,\n",
    "               \"ryu2019\" : 100,\n",
    "               \"araujo2021\" : 20,\n",
    "               \"sedghi2019\":None}\n",
    "func_names = [\n",
    "              \"ryu2019\",\n",
    "              #\"sedghi2019\", # commented because it takes a while\n",
    "              \"araujo2021\",\n",
    "              \"singla2021\",\n",
    "              \"ours\",\n",
    "]\n",
    "model_resnet_18 = models.resnet18(pretrained=True).cuda().eval()\n",
    "\n",
    "\n",
    "\n",
    "inp_shape = (224, 224)\n",
    "lip_tot = {name : 1 for name in func_names}\n",
    "times_tot = {name : 0 for name in func_names}\n",
    "\n",
    "with torch.no_grad():\n",
    "    for name, module in model_resnet_18.named_modules():\n",
    "        print()\n",
    "        is_downsample = name.endswith(\"downsample\")\n",
    "        is_regular_conv = \"conv\" in name\n",
    "        is_max_pool = \"MaxPool2d\" in module.__class__.__name__\n",
    "        if is_max_pool:\n",
    "            stride = module.stride\n",
    "            inp_shape = (inp_shape[0] // stride, inp_shape[1] // stride)\n",
    "        if is_downsample:\n",
    "            # dowsampling layer in residual connection\n",
    "            conv, bn = module[0], module[1]\n",
    "            lip_bn = (bn.weight.detach() / bn.running_var).max().item()\n",
    "            inp_shape = (inp_shape[0] * stride, inp_shape[1] * stride)\n",
    "        elif is_regular_conv:\n",
    "            conv = module\n",
    "            stride = conv.stride[0]\n",
    "            lip_bn = 1.0\n",
    "        if is_downsample or is_regular_conv:\n",
    "            param = conv.weight.clone().detach()\n",
    "            out_channels, in_channels, H, W = param.shape\n",
    "            for name in func_names:\n",
    "                bound, curr_time = estimate(param,\n",
    "                                            inp_shape[0],\n",
    "                                            n_iter_name[name],\n",
    "                                            name,\n",
    "                                            return_time=True)\n",
    "                bound = bound.item()\n",
    "                print(name, \"conv weight dim\", param.shape, \"n\", inp_shape[0], \"bound\", bound, \"time\", curr_time)\n",
    "                if is_downsample:\n",
    "                    lip_tot[name] += bound* lip_bn\n",
    "                else:\n",
    "                    # Lipschiz of batch norm cancels in ratio\n",
    "                    lip_tot[name] *= bound\n",
    "                times_tot[name] += curr_time\n",
    "                print(\"Total Lipschitz bound\", lip_tot[name], \"total time\", times_tot[name], \"\\n\")\n",
    "            inp_shape = (inp_shape[0] // stride, inp_shape[1] // stride)\n"
   ]
  },
  {
   "cell_type": "markdown",
   "id": "abd15c66",
   "metadata": {},
   "source": [
    "# Total Lipschitz ratio bound "
   ]
  },
  {
   "cell_type": "code",
   "execution_count": 10,
   "id": "26b99c0e",
   "metadata": {},
   "outputs": [
    {
     "name": "stdout",
     "output_type": "stream",
     "text": [
      "Total Lipschitz ratio {'ryu2019': 1.0, 'araujo2021': 30256475961.577263, 'singla2021': 86.50689854246077, 'ours': 1.4725238046216356}\n",
      "Total times {'ryu2019': 1.9191737174987793, 'araujo2021': 0.03477597236633301, 'singla2021': 0.6056292057037354, 'ours': 0.17369508743286133}\n"
     ]
    }
   ],
   "source": [
    "lip_tot_ref = lip_tot[\"ryu2019\"]\n",
    "for name in func_names:\n",
    "    lip_tot[name] /= lip_tot_ref\n",
    "print(\"Total Lipschitz ratio\", lip_tot)\n",
    "print(\"Total times\", times_tot)"
   ]
  }
 ],
 "metadata": {
  "kernelspec": {
   "display_name": "Python 3 (ipykernel)",
   "language": "python",
   "name": "python3"
  },
  "language_info": {
   "codemirror_mode": {
    "name": "ipython",
    "version": 3
   },
   "file_extension": ".py",
   "mimetype": "text/x-python",
   "name": "python",
   "nbconvert_exporter": "python",
   "pygments_lexer": "ipython3",
   "version": "3.9.13"
  },
  "vscode": {
   "interpreter": {
    "hash": "ad2bdc8ecc057115af97d19610ffacc2b4e99fae6737bb82f5d7fb13d2f2c186"
   }
  }
 },
 "nbformat": 4,
 "nbformat_minor": 5
}
